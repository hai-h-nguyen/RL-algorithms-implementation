{
 "cells": [
  {
   "cell_type": "markdown",
   "metadata": {},
   "source": [
    "# Homework 3: Dynamic Programming\n",
    "\n",
    "In this assignment you will implement the *value iteration* algorithm and apply it to the Frozen Lake and Gambler's environments.  Before submitting your solution, **make sure** your notebook compiles entirely, from scratch (i.e. use the Kernel->\"Restart and Run All\" option)."
   ]
  },
  {
   "cell_type": "code",
   "execution_count": 1,
   "metadata": {},
   "outputs": [],
   "source": [
    "import numpy as np\n",
    "import matplotlib.pyplot as plt\n",
    "from gym.envs.toy_text.frozen_lake import FrozenLakeEnv\n",
    "\n",
    "import random\n",
    "\n",
    "plt.style.use('ggplot')"
   ]
  },
  {
   "cell_type": "markdown",
   "metadata": {},
   "source": [
    "### Excerise 1 (10 Points):\n",
    "\n",
    "Implement value iteration for the gambler's problem, detailed below.\n",
    "\n",
    "#### Gambler's Environment\n",
    "\n",
    "This exercise uses the Gambler's Problem detailed in Example 4.3 in [SB](http://incompleteideas.net/book/the-book-2nd.html). The important details are described here:\n",
    "\n",
    "A gambler has the opportunity to make bets on the outcomes of a sequence of coin flips. If the coin comes up heads, he wins as many dollars as he has staked on that flip; if it is tails, he loses his stake. The game ends when the gambler wins by reaching his goal of \\$100, or loses by running out of money. On each flip, the gambler must decide what portion of his capital to stake, in integer numbers of dollars.\n",
    "\n",
    "This problem can be formulated as an undiscounted, episodic, finite MDP. The state is the gambler’s capital, $s\\in\\{1,2,...,99\\}$ and the actionsare stakes, $a\\in\\{0,1,...,\\min(s,100 - s)\\}$. The reward is zero on all transitions except those on which the gambler reaches his goal, when it is $+1$. The state-value function then gives the probability of winning from each state.  A policy is a mapping from levels of capital to stakes. The optimal policy maximizes the probability of reaching the goal. Let $p_h$ denote the probability of the coin coming up heads. If $p_h$ is known, then the entire problem is known and it can be solved, for instance, by value iteration.  Figure 4.3 shows the change in the value function over successive sweeps of value iteration, and the final policy found, for the case of $p_h=0.4$. This policy is optimal, but not unique. In fact, there is a whole family of optimal policies, all corresponding to ties for the argmax action selection with respect to the optimal value function. Can you guess what the entire family looks like?"
   ]
  },
  {
   "cell_type": "code",
   "execution_count": 13,
   "metadata": {},
   "outputs": [],
   "source": [
    "def gamblers_possible_actions(s):\n",
    "    \"\"\"\n",
    "    Args:\n",
    "        s: Current state, i.e. amount of money available\n",
    "    Returns:\n",
    "        An iterable of actions which can be taken from that state\n",
    "    \"\"\"\n",
    "    return range(1, min(s, 100 - s) + 1)\n",
    "    \n",
    "    \n",
    "def gamblers_value_iteration(p_h, theta=1e-4, gamma=1.0):\n",
    "    \"\"\"\n",
    "    Args:\n",
    "        p_h: Probability of coin flip being heads\n",
    "        theta: Threshold used to determine accuracy of estimation\n",
    "        gamma: Discount factor\n",
    "    Returns:\n",
    "        A tuple (value function, policy)\n",
    "    \"\"\"\n",
    "\n",
    "    V = np.zeros(101)\n",
    "    policy = np.zeros(100, dtype=np.int)\n",
    "\n",
    "    # YOUR CODE HERE\n",
    "    while(True):\n",
    "        delta = 0\n",
    "        for s in range(1, 100):\n",
    "            v = V[s]\n",
    "            possible_actions = gamblers_possible_actions(s)\n",
    "            best_return = 0\n",
    "            for action in possible_actions:\n",
    "                \n",
    "                # HEAD -> win all the stakes\n",
    "                next_state_head = s + action\n",
    "                r_head = 0\n",
    "                if (next_state_head >= 100):\n",
    "                    r_head = 1\n",
    "                else:\n",
    "                    r_head = 0\n",
    "                    \n",
    "                # TAIL    \n",
    "                next_state_tail = s - action\n",
    "                if (next_state_tail >= 100):\n",
    "                    r_tail = 1\n",
    "                else:\n",
    "                    r_tail = 0                 \n",
    "                               \n",
    "                current_return = p_h * (r_head + gamma * V[next_state_head]) + (1 - p_h) * (r_tail + gamma * V[next_state_tail])\n",
    "\n",
    "                if (current_return >= best_return):\n",
    "                    best_return = current_return\n",
    "            \n",
    "            V[s] = best_return\n",
    "            delta = max(delta, abs(v-V[s]))\n",
    "            \n",
    "        if (delta < theta):\n",
    "            break   \n",
    "\n",
    "    # compute the optimal policy\n",
    "    for s in range(1, 100):\n",
    "        possible_actions = gamblers_possible_actions(s)\n",
    "        returns = []\n",
    "        for action in possible_actions:\n",
    "                # HEAD -> win all the stakes\n",
    "                next_state_head = s + action\n",
    "                r_head = 0\n",
    "                if (next_state_head >= 100):\n",
    "                    r_head = 1\n",
    "                else:\n",
    "                    r_head = 0\n",
    "                    \n",
    "                # TAIL    \n",
    "                next_state_tail = s - action\n",
    "                if (next_state_tail >= 100):\n",
    "                    r_tail = 1\n",
    "                else:\n",
    "                    r_tail = 0\n",
    "                    \n",
    "                current_return = p_h * (r_head + gamma * V[next_state_head]) + (1 - p_h) * (r_tail + gamma * V[next_state_tail])    \n",
    "                returns.append(current_return)\n",
    "        \n",
    "        policy[s] = possible_actions[np.argmax(returns)]\n",
    "            \n",
    "    return V, policy"
   ]
  },
  {
   "cell_type": "markdown",
   "metadata": {},
   "source": [
    "#### Show your results graphically, using matplotlib, as in Figure 4.3."
   ]
  },
  {
   "cell_type": "code",
   "execution_count": 14,
   "metadata": {},
   "outputs": [],
   "source": [
    "V, policy = gamblers_value_iteration(0.4)"
   ]
  },
  {
   "cell_type": "code",
   "execution_count": 20,
   "metadata": {},
   "outputs": [
    {
     "data": {
      "text/plain": [
       "[<matplotlib.lines.Line2D at 0x7fb033743cc0>]"
      ]
     },
     "execution_count": 20,
     "metadata": {},
     "output_type": "execute_result"
    },
    {
     "data": {
      "image/png": "[encoded data removed]",
      "text/plain": [
       "<Figure size 432x288 with 1 Axes>"
      ]
     },
     "metadata": {},
     "output_type": "display_data"
    }
   ],
   "source": [
    "# Plot the value function for p_h=0.4;  your figure should match the final value function shown in the book.\n",
    "\n",
    "# YOUR CODE HERE\n",
    "plt.plot(V[:-1])"
   ]
  },
  {
   "cell_type": "code",
   "execution_count": 21,
   "metadata": {},
   "outputs": [
    {
     "data": {
      "text/plain": [
       "[<matplotlib.lines.Line2D at 0x7fb0336fcba8>]"
      ]
     },
     "execution_count": 21,
     "metadata": {},
     "output_type": "execute_result"
    },
    {
     "data": {
      "image/png": "[encoded data removed]",
      "text/plain": [
       "<Figure size 432x288 with 1 Axes>"
      ]
     },
     "metadata": {},
     "output_type": "display_data"
    }
   ],
   "source": [
    "# Plot the policy function for p_h=0.4;  There are multiple optimal policies for this problem, so your figure\n",
    "# does not have to match the figure in the book exactly (although they all share something in common.\n",
    "# (another question in the homework sheet will ask you why.)\n",
    "\n",
    "# YOUR CODE HERE\n",
    "plt.plot(policy)"
   ]
  },
  {
   "cell_type": "markdown",
   "metadata": {},
   "source": [
    "### Excerise 2 (10 Points):\n",
    "\n",
    "Implement value iteration for any arbritary Gym environemnt provided there is a perfect model of the environment as an MDP. In order for a OpenAI Gym environment to have this perfect model it must have nS, nA, and P as attributes. Note that we have added a max iterations argument to this function. While this is not necessary, it ensures that we will never be stuck running forever due to a bad theta.\n",
    "\n",
    "* **P:** Represents the transition probabilities of the environment. P[s][a] is the tuple (prob, next_state, reward, done)\n",
    "* **nS:** Number of states in the environment\n",
    "* **nA:** Number of actions in the environment"
   ]
  },
  {
   "cell_type": "code",
   "execution_count": 22,
   "metadata": {},
   "outputs": [],
   "source": [
    "def gym_value_iteration(env, theta=1e-4, gamma=1.0, max_iterations=1000):\n",
    "    \"\"\"\n",
    "    Args:\n",
    "        env: OpenAI Gym environment which has P, nS, and nA as attributes\n",
    "        theta: Threshold used to determine accuracy of estimation\n",
    "        gamma: Discount factor\n",
    "        max_iterations: Maximum number of value iterations to run\n",
    "    Returns:\n",
    "        A tuple (value_function, policy)\n",
    "    \"\"\"\n",
    "    \n",
    "    V = np.zeros(env.nS)\n",
    "    policy = np.zeros(env.nS, dtype=np.int)\n",
    "    \n",
    "    \n",
    "    # YOUR CODE HERE\n",
    "    for iteration in range(max_iterations):\n",
    "        delta = 0\n",
    "        for s in range(env.nS):\n",
    "            v = V[s]\n",
    "            best_return = 0\n",
    "            max_action = 0\n",
    "            for action in range(env.nA):\n",
    "                tuples = env.P[s][action]\n",
    "                temp = 0\n",
    "                \n",
    "                for i in range(len(tuples)):\n",
    "                    temp += tuples[i][0] * (tuples[i][2] + gamma * V[tuples[i][1]])\n",
    "                \n",
    "                if (temp > best_return):\n",
    "                    best_return = temp\n",
    "                    max_action = action\n",
    "            \n",
    "            V[s] = best_return\n",
    "            policy[s] = max_action\n",
    "            delta = max(delta, abs(v-V[s]))\n",
    "            \n",
    "        if (delta < theta):\n",
    "            break       \n",
    "                \n",
    "    return V, policy"
   ]
  },
  {
   "cell_type": "markdown",
   "metadata": {},
   "source": [
    "#### Test your implementation on the Frozen Lake environment"
   ]
  },
  {
   "cell_type": "code",
   "execution_count": 23,
   "metadata": {},
   "outputs": [
    {
     "name": "stdout",
     "output_type": "stream",
     "text": [
      "Your computed policy is correct!\n"
     ]
    }
   ],
   "source": [
    "frozen_lake = FrozenLakeEnv()\n",
    "V, policy = gym_value_iteration(frozen_lake)\n",
    "\n",
    "optimal_policy = np.array([0, 3, 3, 3, 0, 0, 0, 0, 3, 1, 0, 0, 0, 2, 1, 0])\n",
    "\n",
    "if (policy != optimal_policy).any():\n",
    "    raise ValueError('Your computed policy is incorrect.  Try again.')\n",
    "else:\n",
    "    print('Your computed policy is correct!')"
   ]
  },
  {
   "cell_type": "code",
   "execution_count": null,
   "metadata": {},
   "outputs": [],
   "source": []
  },
  {
   "cell_type": "code",
   "execution_count": null,
   "metadata": {},
   "outputs": [],
   "source": []
  }
 ],
 "metadata": {
  "kernelspec": {
   "display_name": "Python 3",
   "language": "python",
   "name": "python3"
  },
  "language_info": {
   "codemirror_mode": {
    "name": "ipython",
    "version": 3
   },
   "file_extension": ".py",
   "mimetype": "text/x-python",
   "name": "python",
   "nbconvert_exporter": "python",
   "pygments_lexer": "ipython3",
   "version": "3.5.2"
  }
 },
 "nbformat": 4,
 "nbformat_minor": 2
}
