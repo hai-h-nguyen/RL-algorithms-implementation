{
 "cells": [
  {
   "cell_type": "code",
   "execution_count": 5,
   "metadata": {},
   "outputs": [
    {
     "name": "stdout",
     "output_type": "stream",
     "text": [
      "Populating the interactive namespace from numpy and matplotlib\n"
     ]
    }
   ],
   "source": [
    "import numpy as np\n",
    "from itertools import count\n",
    "import random\n",
    "\n",
    "import torch\n",
    "import torch.nn as nn\n",
    "import torch.nn.functional as F\n",
    "import torch.optim as optim\n",
    "import torch.autograd as autograd\n",
    "from torch.autograd import Variable\n",
    "\n",
    "import matplotlib.mlab as mlab\n",
    "import matplotlib.pyplot as plt\n",
    "import matplotlib.animation\n",
    "from IPython.display import HTML\n",
    "%pylab inline\n"
   ]
  },
  {
   "cell_type": "markdown",
   "metadata": {},
   "source": [
    "### Resources:\n",
    "    - Tutorial to based on (link)[https://github.com/spro/practical-pytorch/blob/master/reinforce-gridworld/reinforce-gridworld.ipynb]"
   ]
  },
  {
   "cell_type": "markdown",
   "metadata": {},
   "source": [
    "## The Grid World\n",
    "A shortest-path-to-goal 10x10 grid-world with start and goal states in opposite corners, no discounting. Actions are the 4 compass directions, and move 1 step in the intended direction 80% of the time and a random direction 20% of the time, and the agent stays in the same place if it tries to walk off the grid. "
   ]
  },
  {
   "cell_type": "code",
   "execution_count": 22,
   "metadata": {},
   "outputs": [],
   "source": [
    "GOAL_VALUE = 10\n",
    "\n",
    "class Grid():\n",
    "    def __init__(self, grid_size=10):\n",
    "        self.grid_size = grid_size\n",
    "        \n",
    "    def reset(self):\n",
    "        self.grid = np.zeros((self.grid_size, self.grid_size)) # Padding for edges\n",
    "              \n",
    "        # Goal position in one of the corners\n",
    "        S = 0 \n",
    "        E = self.grid_size - 1\n",
    "        gps = [(E, E), (S, E), (E, S), (S, S)]\n",
    "        self.goalPos = gps[random.randint(0, len(gps)-1)]\n",
    "        \n",
    "        # Start position in the opposite corner\n",
    "        self.startPos = (self.grid_size - self.goalPos[0], self.grid_size - self.goalPos[1])"
   ]
  },
  {
   "cell_type": "markdown",
   "metadata": {},
   "source": [
    "## The Agent\n",
    "The agent has a current position. This class will update the position based on an action (up, right, down or left)."
   ]
  },
  {
   "cell_type": "code",
   "execution_count": 26,
   "metadata": {},
   "outputs": [],
   "source": [
    "START_HEALTH = 1\n",
    "STEP_VALUE = -0.02\n",
    "\n",
    "class Agent:   \n",
    "    def reset(self, startPos):\n",
    "        self.pos = startPos\n",
    "\n",
    "    def act(self, action):\n",
    "        # Move according to action: 0=UP, 1=RIGHT, 2=DOWN, 3=LEFT\n",
    "        currentPos = self.pos\n",
    "        y, x = self.pos\n",
    "        \n",
    "        if action == 0: y -= 1\n",
    "        elif action == 1: x += 1\n",
    "        elif action == 2: y += 1\n",
    "        elif action == 3: x -= 1\n",
    "        \n",
    "        self.pos = (y, x)"
   ]
  },
  {
   "cell_type": "code",
   "execution_count": null,
   "metadata": {},
   "outputs": [],
   "source": []
  },
  {
   "cell_type": "code",
   "execution_count": null,
   "metadata": {},
   "outputs": [],
   "source": []
  },
  {
   "cell_type": "code",
   "execution_count": null,
   "metadata": {},
   "outputs": [],
   "source": []
  },
  {
   "cell_type": "code",
   "execution_count": null,
   "metadata": {},
   "outputs": [],
   "source": []
  },
  {
   "cell_type": "code",
   "execution_count": null,
   "metadata": {},
   "outputs": [],
   "source": []
  }
 ],
 "metadata": {
  "kernelspec": {
   "display_name": "Python 3",
   "language": "python",
   "name": "python3"
  },
  "language_info": {
   "codemirror_mode": {
    "name": "ipython",
    "version": 3
   },
   "file_extension": ".py",
   "mimetype": "text/x-python",
   "name": "python",
   "nbconvert_exporter": "python",
   "pygments_lexer": "ipython3",
   "version": "3.5.2"
  }
 },
 "nbformat": 4,
 "nbformat_minor": 2
}
