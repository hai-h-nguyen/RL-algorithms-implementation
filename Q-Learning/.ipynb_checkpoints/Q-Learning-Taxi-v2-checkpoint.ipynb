{
 "cells": [
  {
   "cell_type": "code",
   "execution_count": 80,
   "metadata": {},
   "outputs": [],
   "source": [
    "import numpy as np\n",
    "import gym"
   ]
  },
  {
   "cell_type": "markdown",
   "metadata": {},
   "source": [
    "Taxi-v2\n",
    "\n",
    "This task was introduced in [Dietterich2000] to illustrate some issues in hierarchical reinforcement learning.\n",
    "There are 4 locations (labeled by different letters) and your job is to pick up the passenger at one location and \n",
    "drop him off in another. You receive +20 points for a successful dropoff, and lose 1 point for every timestep it \n",
    "takes. There is also a 10 point penalty for illegal pick-up and drop-off actions.\n",
    "\n",
    "<img src=\"Taxi-v2.jpeg\">"
   ]
  },
  {
   "cell_type": "code",
   "execution_count": 190,
   "metadata": {},
   "outputs": [],
   "source": [
    "# env = gym.make('Taxi-v2')\n",
    "# env = gym.make('FrozenLake8x8-v0')\n",
    "env = gym.make('FrozenLake-v0')\n",
    "\n",
    "# State: \n",
    "num_states = env.observation_space.n\n",
    "num_actions = env.action_space.n\n",
    "\n",
    "# Init Q-Table\n",
    "Q_table = np.zeros([num_states, num_actions])\n",
    "\n",
    "learning_rate = 0.1\n",
    "discount_factor = 0.9\n",
    "epsilon = 1.0\n",
    "max_epsilon = 1.0\n",
    "min_epsilon = 0.01\n",
    "\n",
    "n_episodes = 50000\n",
    "\n",
    "for episode in range(1, n_episodes + 1):\n",
    "    state = env.reset()  \n",
    "    done = False\n",
    "    \n",
    "    while (not done):    \n",
    "        # Either explore or exploit (will exploit more increasingly)\n",
    "        random_val = np.random.rand()\n",
    "        if (random_val < epsilon):    \n",
    "            action = env.action_space.sample()\n",
    "        else:\n",
    "            action = np.argmax(Q_table[state, :])\n",
    "            \n",
    "        # Perform the action\n",
    "        next_state, reward, done, info = env.step(action)        \n",
    "              \n",
    "        # Maximum expected future reward one steps from the next state\n",
    "        next_max = np.max(Q_table[next_state, :])\n",
    "          \n",
    "        # Update Q-Table\n",
    "        Q_table[state, action] = Q_table[state, action] + learning_rate * (reward + discount_factor * next_max - Q_table[state, action])\n",
    "        \n",
    "        # Assign new state\n",
    "        state = next_state\n",
    "        \n",
    "    # Reduce exploration\n",
    "    epsilon = min_epsilon + (max_epsilon - min_epsilon) * (1 - episode/n_episodes)  "
   ]
  },
  {
   "cell_type": "code",
   "execution_count": 191,
   "metadata": {},
   "outputs": [
    {
     "name": "stdout",
     "output_type": "stream",
     "text": [
      "Average reward: 0.715285, average actions taken: 69.714286 finish: 1001\n"
     ]
    }
   ],
   "source": [
    "average_reward = 0.0\n",
    "average_epochs = 0.0\n",
    "finish_cnt = 0\n",
    "n_episodes = 1000\n",
    "\n",
    "for episode in range(n_episodes + 1):\n",
    "    state = env.reset()  \n",
    "    epochs = 0\n",
    "    total_reward = 0\n",
    "    done = False\n",
    "    \n",
    "    while (not done): \n",
    "        action = np.argmax(Q_table[state, :])\n",
    "        \n",
    "        # Perform the action\n",
    "        next_state, reward, done, info = env.step(action)\n",
    "                 \n",
    "        # Assign new state\n",
    "        state = next_state\n",
    "        \n",
    "        epochs += 1\n",
    "        total_reward += reward\n",
    "        \n",
    "        if (done):\n",
    "            average_reward += total_reward\n",
    "            average_epochs += epochs\n",
    "            finish_cnt += 1\n",
    "\n",
    "print(\"Average reward: %f, average actions taken: %f finish: %d\" % (average_reward/finish_cnt, average_epochs/finish_cnt, finish_cnt))"
   ]
  },
  {
   "cell_type": "code",
   "execution_count": 183,
   "metadata": {},
   "outputs": [
    {
     "name": "stdout",
     "output_type": "stream",
     "text": [
      "[[4.52035237e-03 4.70296191e-03 6.09736695e-03 4.75517842e-03]\n",
      " [5.47048381e-03 6.29643334e-03 8.23650948e-03 6.00344311e-03]\n",
      " [7.96347253e-03 8.71237969e-03 9.24765669e-03 7.77873189e-03]\n",
      " [1.09761018e-02 1.23460747e-02 1.52560980e-02 1.25226926e-02]\n",
      " [1.55142478e-02 1.67716916e-02 2.24987691e-02 1.63991416e-02]\n",
      " [2.17418273e-02 2.06577770e-02 2.91763675e-02 2.16018805e-02]\n",
      " [2.79974610e-02 3.41058555e-02 2.57508664e-02 2.74073908e-02]\n",
      " [2.69446292e-02 3.17310063e-02 4.15629293e-02 2.96504718e-02]\n",
      " [3.59937354e-03 3.70231736e-03 4.13905104e-03 5.50781009e-03]\n",
      " [4.52915409e-03 4.62468613e-03 6.76266526e-03 5.55954502e-03]\n",
      " [6.83354526e-03 6.77284017e-03 6.81898286e-03 9.77669662e-03]\n",
      " [6.68137185e-03 9.28624574e-03 1.04958371e-02 1.37548119e-02]\n",
      " [1.55093686e-02 1.68393610e-02 2.56230989e-02 1.74540976e-02]\n",
      " [2.16301990e-02 3.60905904e-02 2.61742975e-02 2.15535161e-02]\n",
      " [3.17361681e-02 3.29947378e-02 4.28365552e-02 3.13438048e-02]\n",
      " [3.61984074e-02 3.92796103e-02 5.26774843e-02 3.56912269e-02]\n",
      " [2.65452085e-03 2.73834198e-03 2.96604240e-03 4.41729345e-03]\n",
      " [3.26036626e-03 3.60899510e-03 5.12805456e-03 4.17375793e-03]\n",
      " [6.95253123e-03 2.97821927e-03 3.20571229e-03 3.38007072e-03]\n",
      " [0.00000000e+00 0.00000000e+00 0.00000000e+00 0.00000000e+00]\n",
      " [1.03415531e-02 1.50165957e-02 2.88865348e-02 1.76979721e-02]\n",
      " [1.83664381e-02 2.40534412e-02 1.62848688e-02 3.81058709e-02]\n",
      " [3.88101724e-02 4.22140931e-02 5.40829675e-02 4.16733849e-02]\n",
      " [5.65336710e-02 6.42234404e-02 5.82210663e-02 5.11182968e-02]\n",
      " [2.32821571e-03 2.23120246e-03 2.81125715e-03 3.67939673e-03]\n",
      " [2.54583966e-03 2.72095028e-03 3.02384679e-03 4.37681275e-03]\n",
      " [2.89652186e-03 2.97674347e-03 3.42153811e-03 5.64630552e-03]\n",
      " [1.35102708e-03 3.51482852e-03 3.57308756e-03 8.51043051e-03]\n",
      " [1.98356686e-02 8.15890322e-03 8.16084602e-03 6.33754817e-03]\n",
      " [0.00000000e+00 0.00000000e+00 0.00000000e+00 0.00000000e+00]\n",
      " [6.44190283e-02 6.07708354e-02 7.19040552e-02 4.61584367e-02]\n",
      " [7.50982161e-02 8.96495494e-02 9.11107809e-02 8.01272577e-02]\n",
      " [1.78204370e-03 1.74549946e-03 1.77487929e-03 2.21279435e-03]\n",
      " [1.59031225e-03 1.09986982e-03 1.75832588e-03 2.17819549e-03]\n",
      " [1.10832408e-03 4.63165040e-04 1.30521645e-03 1.92575883e-03]\n",
      " [0.00000000e+00 0.00000000e+00 0.00000000e+00 0.00000000e+00]\n",
      " [1.64971145e-02 1.70988957e-02 2.93140721e-02 1.39448579e-02]\n",
      " [2.38464307e-02 5.06765719e-02 3.03494888e-02 2.22468769e-02]\n",
      " [3.74736606e-02 6.77778181e-02 6.32658469e-02 7.45702575e-02]\n",
      " [1.32213116e-01 1.37001936e-01 1.48823150e-01 1.30878054e-01]\n",
      " [1.26737509e-03 8.47165570e-04 1.18867748e-03 6.53964337e-04]\n",
      " [0.00000000e+00 0.00000000e+00 0.00000000e+00 0.00000000e+00]\n",
      " [0.00000000e+00 0.00000000e+00 0.00000000e+00 0.00000000e+00]\n",
      " [8.35793184e-04 7.80064139e-03 3.16010316e-03 3.26137931e-03]\n",
      " [9.98916772e-03 1.53960811e-02 2.13375944e-02 2.15699995e-02]\n",
      " [5.13523278e-02 2.81733822e-02 2.30353929e-02 3.13338376e-02]\n",
      " [0.00000000e+00 0.00000000e+00 0.00000000e+00 0.00000000e+00]\n",
      " [2.49916811e-01 2.60953745e-01 3.04925300e-01 1.81673409e-01]\n",
      " [9.00761721e-04 3.58311341e-04 5.33624097e-04 6.12495519e-04]\n",
      " [0.00000000e+00 0.00000000e+00 0.00000000e+00 0.00000000e+00]\n",
      " [5.08779944e-05 1.04020186e-03 2.07887893e-04 5.78851085e-05]\n",
      " [2.34838717e-03 1.82172821e-04 1.15566272e-03 7.18756939e-04]\n",
      " [0.00000000e+00 0.00000000e+00 0.00000000e+00 0.00000000e+00]\n",
      " [1.03398317e-01 9.61346218e-02 4.11330572e-02 1.23316686e-02]\n",
      " [0.00000000e+00 0.00000000e+00 0.00000000e+00 0.00000000e+00]\n",
      " [1.99529704e-01 4.45836131e-01 6.15823867e-01 3.92513413e-01]\n",
      " [7.00532607e-04 3.55263954e-04 4.17515345e-04 2.84178246e-04]\n",
      " [2.15261482e-04 3.85265013e-05 5.90610867e-05 5.79143610e-05]\n",
      " [4.62809458e-04 1.97250343e-05 2.04382626e-04 3.50643833e-05]\n",
      " [0.00000000e+00 0.00000000e+00 0.00000000e+00 0.00000000e+00]\n",
      " [1.13810780e-02 5.46618631e-02 3.72193121e-02 4.56684027e-02]\n",
      " [1.65355596e-01 2.05535666e-01 4.27005951e-01 1.38847102e-01]\n",
      " [2.62380377e-01 6.42059047e-01 3.82841503e-01 3.83609762e-01]\n",
      " [0.00000000e+00 0.00000000e+00 0.00000000e+00 0.00000000e+00]]\n"
     ]
    }
   ],
   "source": [
    "print(Q_table)"
   ]
  },
  {
   "cell_type": "code",
   "execution_count": null,
   "metadata": {},
   "outputs": [],
   "source": []
  }
 ],
 "metadata": {
  "kernelspec": {
   "display_name": "Python 3",
   "language": "python",
   "name": "python3"
  },
  "language_info": {
   "codemirror_mode": {
    "name": "ipython",
    "version": 3
   },
   "file_extension": ".py",
   "mimetype": "text/x-python",
   "name": "python",
   "nbconvert_exporter": "python",
   "pygments_lexer": "ipython3",
   "version": "3.5.2"
  }
 },
 "nbformat": 4,
 "nbformat_minor": 2
}
