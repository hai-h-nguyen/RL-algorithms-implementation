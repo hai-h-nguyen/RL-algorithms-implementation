{
 "cells": [
  {
   "cell_type": "code",
   "execution_count": 1,
   "metadata": {},
   "outputs": [],
   "source": [
    "import numpy as np\n",
    "import gym"
   ]
  },
  {
   "cell_type": "markdown",
   "metadata": {},
   "source": [
    "Taxi-v2\n",
    "\n",
    "This task was introduced in [Dietterich2000] to illustrate some issues in hierarchical reinforcement learning.\n",
    "There are 4 locations (labeled by different letters) and your job is to pick up the passenger at one location and \n",
    "drop him off in another. You receive +20 points for a successful dropoff, and lose 1 point for every timestep it \n",
    "takes. There is also a 10 point penalty for illegal pick-up and drop-off actions.\n",
    "\n",
    "<img src=\"Taxi-v2.jpeg\">"
   ]
  },
  {
   "cell_type": "code",
   "execution_count": 59,
   "metadata": {},
   "outputs": [],
   "source": [
    "env = gym.make('Taxi-v2')\n",
    "\n",
    "# Action: North, South, West, East, PickUp, DropOff\n",
    "# State: \n",
    "num_states = env.observation_space.n\n",
    "num_actions = env.action_space.n\n",
    "\n",
    "# Init Q-Table\n",
    "Q_table = np.zeros([num_states, num_actions])\n",
    "\n",
    "learning_rate = 0.1\n",
    "discount_factor = 0.9\n",
    "epsilon = 1.0\n",
    "max_epsilon = 1.0\n",
    "min_epsilon = 0.01\n",
    "decay_rate  = 0.01\n",
    "\n",
    "n_episodes = 100000\n",
    "\n",
    "for episode in range(n_episodes + 1):\n",
    "    state = env.reset()  \n",
    "    done = False\n",
    "    \n",
    "    while (not done):    \n",
    "        # 1. Initially, choose a random action to take\n",
    "        random_val = np.random.rand()\n",
    "        \n",
    "        if (random_val < epsilon):    \n",
    "            action = env.action_space.sample()\n",
    "        else:\n",
    "            action = np.argmax(Q_table[state])\n",
    "              \n",
    "        # Perform the action\n",
    "        next_state, reward, done, info = env.step(action)\n",
    "           \n",
    "        next_max = np.max(Q_table[next_state])\n",
    "          \n",
    "        # Update Q-Table\n",
    "        Q_table[state, action] += learning_rate * (reward + discount_factor * next_max - Q_table[state, action])\n",
    "        \n",
    "        # Assign new state\n",
    "        state = next_state\n",
    "        \n",
    "    # Reduce exploration\n",
    "    epsilon = min_epsilon + (max_epsilon - min_epsilon) * np.exp(- decay_rate * episode)    "
   ]
  },
  {
   "cell_type": "code",
   "execution_count": 60,
   "metadata": {},
   "outputs": [
    {
     "name": "stdout",
     "output_type": "stream",
     "text": [
      "[[  0.           0.           0.           0.           0.\n",
      "    0.        ]\n",
      " [ 47.46225639  65.02064408  49.95175889  65.01475303  90.442349\n",
      "   54.91057046]\n",
      " [ 66.01222297  80.29993667  74.92028896  86.00444059 114.0029\n",
      "   70.12415486]\n",
      " ...\n",
      " [ -1.13473865  -1.11237674  -1.12801184  78.11030105  -2.744029\n",
      "   -1.94332301]\n",
      " [ -2.21904139  -2.21143642  -2.21409153  51.59672803  -5.4776448\n",
      "   -4.8688699 ]\n",
      " [ 15.715845    -0.40951     -0.64353051 178.96185107  -6.14289511\n",
      "   -4.69459   ]]\n"
     ]
    }
   ],
   "source": [
    "print(Q_table)"
   ]
  },
  {
   "cell_type": "code",
   "execution_count": 62,
   "metadata": {},
   "outputs": [
    {
     "name": "stdout",
     "output_type": "stream",
     "text": [
      "Average reward: 8.457935, average actions taken: 12.542065\n"
     ]
    }
   ],
   "source": [
    "average_reward = 0.0\n",
    "average_epochs = 0.0\n",
    "finish_cnt = 0\n",
    "\n",
    "for episode in range(n_episodes + 1):\n",
    "    state = env.reset()  \n",
    "    epochs = 0\n",
    "    total_reward = 0\n",
    "    done = False\n",
    "    \n",
    "    while (not done): \n",
    "        action = np.argmax(Q_table[state])\n",
    "        \n",
    "        # Perform the action\n",
    "        next_state, reward, done, info = env.step(action)\n",
    "           \n",
    "        # Assign new state\n",
    "        state = next_state\n",
    "        \n",
    "        epochs += 1\n",
    "        total_reward += reward\n",
    "        \n",
    "        if (done):\n",
    "            average_reward += total_reward\n",
    "            average_epochs += epochs\n",
    "            finish_cnt += 1\n",
    "\n",
    "print(\"Average reward: %f, average actions taken: %f\" % (average_reward/finish_cnt, average_epochs/finish_cnt))"
   ]
  },
  {
   "cell_type": "code",
   "execution_count": null,
   "metadata": {},
   "outputs": [],
   "source": []
  }
 ],
 "metadata": {
  "kernelspec": {
   "display_name": "Python 3",
   "language": "python",
   "name": "python3"
  },
  "language_info": {
   "codemirror_mode": {
    "name": "ipython",
    "version": 3
   },
   "file_extension": ".py",
   "mimetype": "text/x-python",
   "name": "python",
   "nbconvert_exporter": "python",
   "pygments_lexer": "ipython3",
   "version": "3.5.2"
  }
 },
 "nbformat": 4,
 "nbformat_minor": 2
}
